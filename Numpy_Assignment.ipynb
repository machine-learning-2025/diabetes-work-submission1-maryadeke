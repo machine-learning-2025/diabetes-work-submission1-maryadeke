{
  "cells": [
    {
      "attachments": {},
      "cell_type": "markdown",
      "metadata": {
        "id": "aTz0cvx7Iex3"
      },
      "source": [
        "## Numpy Assignment\n",
        "Student Name:\n",
        "\n",
        "## Instructions:\n",
        "- Please complete the questions below.\n",
        "- for each cell, complete it with good essays and code examples\n",
        "- Please comment your code indicating how you approached the problem"
      ]
    },
    {
      "cell_type": "markdown",
      "metadata": {},
      "source": [
        "My name is Adeke Mary doing a Bachelor of Information Technology at Mbarara University of Science and Technology"
      ]
    },
    {
      "attachments": {},
      "cell_type": "markdown",
      "metadata": {
        "id": "NwKEk4skG5c2"
      },
      "source": [
        "# What is NumPy, and what are some of its key features?\n"
      ]
    },
    {
      "cell_type": "code",
      "execution_count": 24,
      "metadata": {},
      "outputs": [],
      "source": [
        "# to install numpy when you have python installed.\n",
        "\n",
        "#conda install numpy or \n",
        "\n",
        "#pip install numpy"
      ]
    },
    {
      "cell_type": "code",
      "execution_count": null,
      "metadata": {},
      "outputs": [],
      "source": [
        "#importing numpy(Numerical python-its an open source python library)\n",
        "import numpy as np"
      ]
    },
    {
      "attachments": {},
      "cell_type": "markdown",
      "metadata": {
        "id": "OMqoIR7oJD0i"
      },
      "source": [
        "# How do you create a NumPy array using Python's built-in range() function?\n"
      ]
    },
    {
      "cell_type": "code",
      "execution_count": 2,
      "metadata": {},
      "outputs": [
        {
          "name": "stdout",
          "output_type": "stream",
          "text": [
            "[0 1 2 3 4 5 6 7 8 9]\n"
          ]
        }
      ],
      "source": [
        "arr = np.array(range(10))\n",
        "print(arr)"
      ]
    },
    {
      "cell_type": "markdown",
      "metadata": {},
      "source": [
        "In Python, the built-in range function is used to generate a sequence of numbers, commonly for looping or iterating through a set of values. However, it does not produce an actual list or array unless explicitly converted.\n",
        "\n",
        "NumPy’s array function allows you to create an array from a variety of data types, such as lists or ranges, making data manipulation and numerical operations more efficient.\n",
        "\n",
        "The arange function, also from NumPy, is similar to range but is designed specifically to return NumPy arrays. It allows more flexibility, such as using decimal step values, and is widely used in scientific and mathematical computations."
      ]
    },
    {
      "attachments": {},
      "cell_type": "markdown",
      "metadata": {
        "id": "DRVy8tPoJHQr"
      },
      "source": [
        "# What is the difference between a scalar value and a vector in NumPy?\n",
        "with code example"
      ]
    },
    {
      "cell_type": "code",
      "execution_count": null,
      "metadata": {},
      "outputs": [
        {
          "name": "stdout",
          "output_type": "stream",
          "text": [
            "Scalar: 5\n",
            "Scalar shape: ()\n",
            "Vector: [1 2 3]\n",
            "Vector shape: (3,)\n"
          ]
        }
      ],
      "source": [
        "# Scalar\n",
        "scalar = np.array(5) #no dimensions\n",
        "print(\"Scalar:\", scalar)\n",
        "print(\"Scalar shape:\", scalar.shape)\n",
        "\n",
        "# Vector\n",
        "vector = np.array([1, 2, 3])\n",
        "print(\"Vector:\", vector)\n",
        "print(\"Vector shape:\", vector.shape)"
      ]
    },
    {
      "cell_type": "markdown",
      "metadata": {},
      "source": [
        "A scalar is a 0 dimensional array while a vector a one-dimensional array that holds a sequence of values\n",
        ".shape attribute in NumPy returns the dimensions of an array as a tuple"
      ]
    },
    {
      "attachments": {},
      "cell_type": "markdown",
      "metadata": {
        "id": "lHa-pHerJKd0"
      },
      "source": [
        "# How do you calculate the mean of a NumPy array using the mean() function?\n",
        "\n",
        "Examples \n",
        "\n"
      ]
    },
    {
      "cell_type": "code",
      "execution_count": 5,
      "metadata": {},
      "outputs": [
        {
          "name": "stdout",
          "output_type": "stream",
          "text": [
            "25.0\n",
            "10.0\n"
          ]
        }
      ],
      "source": [
        "arr = np.array([10, 20, 30, 40])\n",
        "value = np.mean(arr)\n",
        "print(value)\n",
        "\n",
        "arr = np.array(range(2,20,2))\n",
        "average = np.mean(arr)\n",
        "print(average)\n"
      ]
    },
    {
      "cell_type": "markdown",
      "metadata": {},
      "source": [
        "The mean() function in NumPy is used to compute the average (arithmetic mean) of array elements."
      ]
    },
    {
      "attachments": {},
      "cell_type": "markdown",
      "metadata": {
        "id": "EqpLGTh8JON9"
      },
      "source": [
        "# What is broadcasting in NumPy, and how can it be useful?\n"
      ]
    },
    {
      "cell_type": "code",
      "execution_count": 6,
      "metadata": {},
      "outputs": [
        {
          "name": "stdout",
          "output_type": "stream",
          "text": [
            "[11 12 13]\n"
          ]
        }
      ],
      "source": [
        "data = np.array([1, 2, 3])\n",
        "b = data + 10\n",
        "\n",
        "print(b)"
      ]
    },
    {
      "cell_type": "markdown",
      "metadata": {},
      "source": [
        "Broadcasting is a mechanism that allows numpy to perform basic operations on arrays of different shapes. for example if its multiplication, numpy understands that it should happen with each cell.\n",
        "it simplifies code and improves performance(faster and uses less memory)"
      ]
    },
    {
      "attachments": {},
      "cell_type": "markdown",
      "metadata": {},
      "source": [
        "# How can you slice a NumPy array to extract a subarray?\n",
        "\n",
        "\n"
      ]
    },
    {
      "cell_type": "code",
      "execution_count": 10,
      "metadata": {},
      "outputs": [
        {
          "name": "stdout",
          "output_type": "stream",
          "text": [
            "[20 30 40]\n",
            "30\n",
            "50\n",
            "40\n",
            "[30 40 50]\n",
            "[50 40 30 20 10]\n"
          ]
        }
      ],
      "source": [
        "data = np.array([10, 20, 30, 40, 50])\n",
        "\n",
        "subarray = data[1:4] # Extract elements from index 1 to 3 (excluding index 4)\n",
        "print(subarray)\n",
        "\n",
        "\n",
        "# Access the third element (index 2)\n",
        "print(data[2]) \n",
        "\n",
        "# Access the last element\n",
        "print(data[-1])  \n",
        "\n",
        "# Access the second last element\n",
        "print(data[-2])  \n",
        "\n",
        "# Get the last three elements\n",
        "print (data[-3:]) \n",
        "\n",
        "# Reverse the entire array\n",
        "print(data[::-1])  "
      ]
    },
    {
      "cell_type": "markdown",
      "metadata": {},
      "source": [
        "Slicing in NumPy allows you to extract a portion (subarray) of an array by specifying start, stop, and step indices using the colon : syntax\n",
        "\n",
        "In NumPy, positive indexing allows access to elements starting from the beginning of the array, where index 0 refers to the first element. Negative indexing starts from the end, so index -1 refers to the last element, -2 to the second last, and so on.\n",
        "\n",
        "You can slice arrays to extract subarrays by specifying a start and stop index. For example, slicing from index 1 to 4 returns the second to fourth elements. You can also include a step value to skip elements, such as getting every second element in the array.\n",
        "\n",
        "Reversing an array is possible using slicing with a step of -1. In two-dimensional arrays, you can access specific rows by indexing with a single number, and specific columns using slicing along the second axis. Negative indexing also works in two dimensions, allowing access to the last row or column."
      ]
    },
    {
      "attachments": {},
      "cell_type": "markdown",
      "metadata": {
        "id": "c1jTMq5AJbS2"
      },
      "source": [
        "# What are some of the available functions for performing element-wise operations on NumPy arrays?\n"
      ]
    },
    {
      "cell_type": "code",
      "execution_count": null,
      "metadata": {},
      "outputs": [
        {
          "name": "stdout",
          "output_type": "stream",
          "text": [
            "[ 1  3  5  7  9 11 13 15 17 19 21 23 25 27 29 31 33 35 37 39 41 43 45 47\n",
            " 49]\n",
            "[ 6  8 10 12 14 16 18 20 22 24 26 28 30 32 34 36 38 40 42 44 46 48 50 52\n",
            " 54]\n",
            "[ 0  2  4  6  8 10 12 14 16 18 20 22 24 26 28 30 32 34 36 38 40 42 44 46\n",
            " 48]\n",
            "[ 2  6 10 14 18 22 26 30 34 38 42 46 50 54 58 62 66 70 74 78 82 86 90 94\n",
            " 98]\n",
            "[ 0.5  1.5  2.5  3.5  4.5  5.5  6.5  7.5  8.5  9.5 10.5 11.5 12.5 13.5\n",
            " 14.5 15.5 16.5 17.5 18.5 19.5 20.5 21.5 22.5 23.5 24.5]\n",
            "[   1    9   25   49   81  121  169  225  289  361  441  529  625  729\n",
            "  841  961 1089 1225 1369 1521 1681 1849 2025 2209 2401]\n",
            "[1 1 1 1 1 1 1 1 1 1 1 1 1 1 1 1 1 1 1 1 1 1 1 1 1]\n",
            "25.0\n",
            "25.0\n",
            "[0. 1. 2. 2. 3. 4. 4. 5. 6.]\n",
            "[1. 2. 2. 3. 4. 4. 5. 6. 6.]\n"
          ]
        }
      ],
      "source": [
        "age = np.arange(1, 51, 2)\n",
        "print(age)\n",
        "\n",
        "\n",
        "print(np.add(age, 5)) # Add 5 to each element\n",
        "print(np.subtract(age, 1))  # Subtract 1 from each element\n",
        "print(np.multiply(age, 2))  # Multiply each element by 2\n",
        "print(np.divide(age, 2))    # Divide each element by 2\n",
        "print(np.power(age, 2))     # Square each element\n",
        "print(np.mod(age, 2))       # Modulus (remainder) of each element by 2\n",
        "\n",
        "print(np.mean(age))         # Mean of all elements\n",
        "print(np.median(age)) \n",
        "\n"
      ]
    },
    {
      "cell_type": "markdown",
      "metadata": {
        "id": "dPgmCPERJe_2"
      },
      "source": [
        "# How do you reshape a NumPy array to have a different shape?\n",
        "\n",
        "\n",
        "\n"
      ]
    },
    {
      "cell_type": "code",
      "execution_count": 17,
      "metadata": {},
      "outputs": [
        {
          "name": "stdout",
          "output_type": "stream",
          "text": [
            "[ 0  1  2  3  4  5  6  7  8  9 10 11]\n",
            "[[ 0  1  2  3]\n",
            " [ 4  5  6  7]\n",
            " [ 8  9 10 11]]\n"
          ]
        }
      ],
      "source": [
        "weight = np.arange(12)  # 1D array with 12 elements\n",
        "print(weight)\n",
        "\n",
        "reshaped_weight = weight.reshape(3, 4)  # Reshape to 3 rows, 4 columns\n",
        "print(reshaped_weight)\n"
      ]
    },
    {
      "cell_type": "markdown",
      "metadata": {},
      "source": [
        "In NumPy, you can reshape an array using the .reshape() function to change its structure without changing the data"
      ]
    },
    {
      "attachments": {},
      "cell_type": "markdown",
      "metadata": {},
      "source": [
        "# How do you perform matrix multiplication on two NumPy arrays using the dot() function?\n"
      ]
    },
    {
      "cell_type": "markdown",
      "metadata": {},
      "source": [
        "To perform matrix multiplication in NumPy, you can use the np.dot() function or the @ operator. These perform the dot product, which is standard matrix multiplication (not element-wise).\n",
        "\n",
        "syntax\n",
        "np.dot(A, B)\n",
        "Where A and B are NumPy arrays (matrices or vectors).\n",
        "\n",
        "but the condition is that number of columns in the first matrix must equal the number of rows in the second matrix."
      ]
    },
    {
      "cell_type": "code",
      "execution_count": null,
      "metadata": {},
      "outputs": [
        {
          "name": "stdout",
          "output_type": "stream",
          "text": [
            "[[19 22]\n",
            " [43 50]]\n"
          ]
        }
      ],
      "source": [
        "A = np.array([[1, 2],\n",
        "              [3, 4]])\n",
        "\n",
        "B = np.array([[5, 6],\n",
        "              [7, 8]])\n",
        "\n",
        "# Perform matrix multiplication\n",
        "result = np.dot(A, B)\n",
        "\n",
        "print(result)\n",
        "\n",
        "#Row 1 of A × Column 1 of B: 1*5 + 2*7 = 19\n",
        "#Row 1 of A × Column 2 of B: 1*6 + 2*8 = 22"
      ]
    },
    {
      "cell_type": "markdown",
      "metadata": {
        "id": "JtbVS5P0Jodg"
      },
      "source": [
        "# How can you use the where() function to apply a condition to a NumPy array?\n"
      ]
    },
    {
      "cell_type": "code",
      "execution_count": 19,
      "metadata": {},
      "outputs": [
        {
          "name": "stdout",
          "output_type": "stream",
          "text": [
            "[0 0 1 1 1]\n"
          ]
        }
      ],
      "source": [
        "data = np.array([5, 15, 25, 35, 45])\n",
        "\n",
        "# Replace values greater than 20 with 1, others with 0\n",
        "result = np.where(data > 20, 1, 0)\n",
        "\n",
        "print(result)"
      ]
    },
    {
      "cell_type": "markdown",
      "metadata": {},
      "source": [
        "np.where() function is used to apply conditions on arrays and selectively choose values based on those conditions.\n",
        "\n",
        "syntax\n",
        "np.where(condition, value_if_true, value_if_false)\n",
        "\n",
        "condition: A logical condition on the array.\n",
        "value_if_true: Value to assign where the condition is true.\n",
        "value_if_false: Value to assign where the condition is false."
      ]
    },
    {
      "attachments": {},
      "cell_type": "markdown",
      "metadata": {},
      "source": [
        "# What is the difference between the flatten() and ravel() functions in NumPy?\n",
        "\n",
        "\n"
      ]
    },
    {
      "cell_type": "code",
      "execution_count": 20,
      "metadata": {},
      "outputs": [
        {
          "name": "stdout",
          "output_type": "stream",
          "text": [
            "[[1 2]\n",
            " [3 4]]\n",
            "[[88  2]\n",
            " [ 3  4]]\n"
          ]
        }
      ],
      "source": [
        "#flatten\n",
        "a = np.array([[1, 2], [3, 4]])\n",
        "b = a.flatten()\n",
        "b[0] = 99\n",
        "\n",
        "print(a)  # Original remains unchanged\n",
        "\n",
        "\n",
        "#ravel\n",
        "c = a.ravel()\n",
        "c[0] = 88\n",
        "\n",
        "print(a)  # Might reflect change if view is returned\n"
      ]
    },
    {
      "cell_type": "markdown",
      "metadata": {},
      "source": [
        "Both flatten() and ravel() are used to convert a multi-dimensional NumPy array into a 1D array, but they behave slightly differently in terms of memory and performance.\n",
        "flatten()\n",
        "Returns a copy of the original array, flattened into 1D.\n",
        "Modifying the flattened array does not affect the original array.\n",
        "Slightly slower due to copying.\n",
        "\n",
        " ravel()\n",
        "Returns a view (if possible) of the original array.\n",
        "Modifying the result may affect the original array (if it's a view).\n",
        "Faster and more memory-efficient."
      ]
    },
    {
      "attachments": {},
      "cell_type": "markdown",
      "metadata": {},
      "source": [
        "# How do you use NumPy's advanced indexing capabilities to select specific elements from an array?\n"
      ]
    },
    {
      "cell_type": "code",
      "execution_count": null,
      "metadata": {},
      "outputs": [],
      "source": [
        " #1. Integer Array Indexing\n",
        "#You can use an array or list of integers to select specific elements by position.\n",
        "\n",
        "arr = np.array([10, 20, 30, 40, 50])\n",
        "\n",
        "# Select elements at index 0, 2, and 4\n",
        "selected = arr[[0, 2, 4]]\n",
        "print(selected)  \n",
        "\n",
        " #2. Boolean Array Indexing\n",
        "#You can pass a Boolean mask (array of True/False) to select elements that satisfy a condition.\n",
        "\n",
        "# Select elements greater than 25\n",
        "mask = arr > 25\n",
        "print(arr[mask])  # Output: [30 40 50]\n",
        "#Or in one line:\n",
        "print(arr[arr > 25])  # Output: [30 40 50]\n",
        "\n",
        " #3. 2D Integer Indexing\n",
        "#You can select specific elements from a 2D array using row and column index arrays.\n",
        "\n",
        "\n",
        "matrix = np.array([[1, 2, 3],\n",
        "                   [4, 5, 6],\n",
        "                   [7, 8, 9]])\n",
        "\n",
        "rows = [0, 1, 2]\n",
        "cols = [2, 1, 0]\n",
        "\n",
        "# Select (0,2), (1,1), and (2,0)\n",
        "print(matrix[rows, cols])  # Output: [3 5 7]"
      ]
    },
    {
      "cell_type": "markdown",
      "metadata": {},
      "source": [
        "Advanced indexing in NumPy allows you to access and manipulate specific elements from an array using lists or arrays of indices, rather than simple slicing.\n",
        "\n",
        "This gives you fine-grained control over which elements to retrieve, especially in non-contiguous or irregular patterns"
      ]
    },
    {
      "attachments": {},
      "cell_type": "markdown",
      "metadata": {
        "id": "b2NpOnu2JxMp"
      },
      "source": [
        "# How can you use NumPy's broadcasting rules to perform operations on arrays with different shapes?"
      ]
    },
    {
      "cell_type": "code",
      "execution_count": null,
      "metadata": {},
      "outputs": [],
      "source": [
        "\n",
        "#adding a scalar to an array\n",
        "a = np.array([1, 2, 3])\n",
        "b = 10\n",
        "\n",
        "print(a + b)  \n",
        "\n",
        "#adding a 1D to 2D array\n",
        "A = np.array([[1, 2, 3],\n",
        "              [4, 5, 6]])\n",
        "\n",
        "B = np.array([10, 20, 30])\n",
        "\n",
        "# B is broadcasted to match each row of A\n",
        "print(A + B)\n"
      ]
    },
    {
      "cell_type": "markdown",
      "metadata": {},
      "source": [
        "Broadcasting in NumPy allows you to perform arithmetic operations on arrays of different shapes as if they had the same shape, without explicitly copying data."
      ]
    },
    {
      "cell_type": "markdown",
      "metadata": {
        "id": "XgeHrSj7KzTj"
      },
      "source": [
        "### Project: Array Statistics Calculator\n",
        "**Description:**\n",
        "\n",
        "In this project, you will create a program that allows a user to enter a list of numbers, and then calculates and displays various statistics about those numbers using NumPy.\n",
        "\n",
        "**Requirements:**\n",
        "\n",
        "- The program should prompt the user to enter a list of numbers separated by commas.\n",
        "- The program should use NumPy to convert the input into a 1D NumPy array.\n",
        "- The program should calculate and display the following statistics:\n",
        "- The mean of the numbers\n",
        "- The median of the numbers\n",
        "- The standard deviation of the numbers\n",
        "- The maximum and minimum values of the numbers\n",
        "- The program should use appropriate NumPy functions to calculate the statistics.\n",
        "- The program should display the statistics with appropriate labels.\n",
        "\n",
        "### Sample Output\n",
        "```\n",
        "Enter a list of numbers separated by commas: 2, 5, 7, 3, 1, 9\n",
        "Statistics for the input array:\n",
        "Mean: 4.5\n",
        "Median: 4.0\n",
        "Standard Deviation: 2.9154759474226504\n",
        "Maximum: 9\n",
        "Minimum: 1\n",
        "```"
      ]
    },
    {
      "cell_type": "code",
      "execution_count": 24,
      "metadata": {},
      "outputs": [
        {
          "ename": "ValueError",
          "evalue": "could not convert string to float: ''",
          "output_type": "error",
          "traceback": [
            "\u001b[1;31m---------------------------------------------------------------------------\u001b[0m",
            "\u001b[1;31mValueError\u001b[0m                                Traceback (most recent call last)",
            "\u001b[1;32m~\\AppData\\Local\\Temp\\ipykernel_32364\\973618662.py\u001b[0m in \u001b[0;36m<module>\u001b[1;34m\u001b[0m\n\u001b[0;32m      3\u001b[0m \u001b[1;33m\u001b[0m\u001b[0m\n\u001b[0;32m      4\u001b[0m \u001b[1;31m# Convert the input string to a list of floats\u001b[0m\u001b[1;33m\u001b[0m\u001b[1;33m\u001b[0m\u001b[0m\n\u001b[1;32m----> 5\u001b[1;33m \u001b[0mnumber_list\u001b[0m \u001b[1;33m=\u001b[0m \u001b[1;33m[\u001b[0m\u001b[0mfloat\u001b[0m\u001b[1;33m(\u001b[0m\u001b[0mnum\u001b[0m\u001b[1;33m.\u001b[0m\u001b[0mstrip\u001b[0m\u001b[1;33m(\u001b[0m\u001b[1;33m)\u001b[0m\u001b[1;33m)\u001b[0m \u001b[1;32mfor\u001b[0m \u001b[0mnum\u001b[0m \u001b[1;32min\u001b[0m \u001b[0muser_input\u001b[0m\u001b[1;33m.\u001b[0m\u001b[0msplit\u001b[0m\u001b[1;33m(\u001b[0m\u001b[1;34m','\u001b[0m\u001b[1;33m)\u001b[0m\u001b[1;33m]\u001b[0m\u001b[1;33m\u001b[0m\u001b[1;33m\u001b[0m\u001b[0m\n\u001b[0m\u001b[0;32m      6\u001b[0m \u001b[1;33m\u001b[0m\u001b[0m\n\u001b[0;32m      7\u001b[0m \u001b[1;33m\u001b[0m\u001b[0m\n",
            "\u001b[1;32m~\\AppData\\Local\\Temp\\ipykernel_32364\\973618662.py\u001b[0m in \u001b[0;36m<listcomp>\u001b[1;34m(.0)\u001b[0m\n\u001b[0;32m      3\u001b[0m \u001b[1;33m\u001b[0m\u001b[0m\n\u001b[0;32m      4\u001b[0m \u001b[1;31m# Convert the input string to a list of floats\u001b[0m\u001b[1;33m\u001b[0m\u001b[1;33m\u001b[0m\u001b[0m\n\u001b[1;32m----> 5\u001b[1;33m \u001b[0mnumber_list\u001b[0m \u001b[1;33m=\u001b[0m \u001b[1;33m[\u001b[0m\u001b[0mfloat\u001b[0m\u001b[1;33m(\u001b[0m\u001b[0mnum\u001b[0m\u001b[1;33m.\u001b[0m\u001b[0mstrip\u001b[0m\u001b[1;33m(\u001b[0m\u001b[1;33m)\u001b[0m\u001b[1;33m)\u001b[0m \u001b[1;32mfor\u001b[0m \u001b[0mnum\u001b[0m \u001b[1;32min\u001b[0m \u001b[0muser_input\u001b[0m\u001b[1;33m.\u001b[0m\u001b[0msplit\u001b[0m\u001b[1;33m(\u001b[0m\u001b[1;34m','\u001b[0m\u001b[1;33m)\u001b[0m\u001b[1;33m]\u001b[0m\u001b[1;33m\u001b[0m\u001b[1;33m\u001b[0m\u001b[0m\n\u001b[0m\u001b[0;32m      6\u001b[0m \u001b[1;33m\u001b[0m\u001b[0m\n\u001b[0;32m      7\u001b[0m \u001b[1;33m\u001b[0m\u001b[0m\n",
            "\u001b[1;31mValueError\u001b[0m: could not convert string to float: ''"
          ]
        }
      ],
      "source": [
        "\n",
        "\n",
        "# Prompt the user to enter a list of numbers\n",
        "user_input = input(\"Enter a list of numbers separated by commas: \")\n",
        "\n",
        "# Convert the input string to a list of floats\n",
        "number_list = [float(num.strip()) for num in user_input.split(',')]\n",
        "\n",
        "\n",
        "\"\"\"Splits the string at each comma using .split(','), creating a list of string numbers: ['2', '5', '7', ...]\n",
        "\n",
        "Strips whitespace using strip() from each number.\n",
        "\n",
        "Converts each string to a float using float().\n",
        "\n",
        "The result is a list of numbers like [2.0, 5.0, 7.0, 3.0, 1.0, 9.0] stored in number_list.\"\"\"\n",
        "\n",
        "# Convert the list to a NumPy array\n",
        "arr = np.array(number_list)\n",
        "\n",
        "# Calculate statistics using NumPy functions\n",
        "mean_val = np.mean(arr)\n",
        "median_val = np.median(arr)\n",
        "std_dev = np.std(arr)\n",
        "maximum = np.max(arr)\n",
        "minimum = np.min(arr)\n",
        "\n",
        "# Display the results\n",
        "print(f\"your array:{user_input}\")\n",
        "print(\"\\nStatistics for the input array:\")\n",
        "print(f\"Mean: {mean_val}\")\n",
        "print(f\"Median: {median_val}\")\n",
        "print(f\"Standard Deviation: {std_dev}\")\n",
        "print(f\"Maximum: {maximum}\")\n",
        "print(f\"Minimum: {minimum}\")\n"
      ]
    }
  ],
  "metadata": {
    "colab": {
      "provenance": []
    },
    "kernelspec": {
      "display_name": "base",
      "language": "python",
      "name": "python3"
    },
    "language_info": {
      "codemirror_mode": {
        "name": "ipython",
        "version": 3
      },
      "file_extension": ".py",
      "mimetype": "text/x-python",
      "name": "python",
      "nbconvert_exporter": "python",
      "pygments_lexer": "ipython3",
      "version": "3.9.13"
    }
  },
  "nbformat": 4,
  "nbformat_minor": 0
}
