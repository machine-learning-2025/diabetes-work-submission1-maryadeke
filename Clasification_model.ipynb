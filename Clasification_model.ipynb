{
 "cells": [
  {
   "cell_type": "markdown",
   "id": "48e5fa4f",
   "metadata": {},
   "source": [
    "# Simple classification model\n",
    "Import all important libaries to use in building the model"
   ]
  },
  {
   "cell_type": "code",
   "execution_count": 1,
   "id": "ff2d8b79",
   "metadata": {},
   "outputs": [],
   "source": [
    "from sklearn.datasets import load_iris\n",
    "from sklearn.model_selection import train_test_split\n",
    "from sklearn.ensemble import RandomForestClassifier\n",
    "from sklearn.metrics import accuracy_score, classification_report, confusion_matrix, ConfusionMatrixDisplay\n",
    "import matplotlib.pyplot as plt\n"
   ]
  },
  {
   "cell_type": "markdown",
   "id": "87c1be25",
   "metadata": {},
   "source": [
    "## load the iris dataset\n",
    " this has information about flowers like\n",
    " - sepal length\n",
    " - sepal height\n",
    " - sepal width"
   ]
  },
  {
   "cell_type": "code",
   "execution_count": 2,
   "id": "f97da03f",
   "metadata": {},
   "outputs": [],
   "source": [
    "iris =load_iris()"
   ]
  },
  {
   "cell_type": "code",
   "execution_count": 3,
   "id": "64ff3a3c",
   "metadata": {},
   "outputs": [
    {
     "name": "stdout",
     "output_type": "stream",
     "text": [
      "1.7.0\n"
     ]
    }
   ],
   "source": [
    "import sklearn\n",
    "print(sklearn.__version__)"
   ]
  },
  {
   "cell_type": "markdown",
   "id": "aa6e57c6",
   "metadata": {},
   "source": [
    "Split the iris dataset into training and testing sets"
   ]
  },
  {
   "cell_type": "code",
   "execution_count": 4,
   "id": "1f93b6f1",
   "metadata": {},
   "outputs": [],
   "source": [
    "\"\"\"_this is a simple example of using the Random Forest Classifier\n",
    "    on the Iris dataset.\n",
    "    The dataset is split into training and testing sets,\n",
    "    a Random Forest model is trained,\n",
    "    \"\"\"\n",
    "# Set x and y variables\n",
    "x = iris.data\n",
    "y = iris.target\n",
    "# Split the dataset into training and testing sets\n",
    "x_train, x_test, y_train, y_test = train_test_split(x, y, test_size=0.2, random_state=42)"
   ]
  },
  {
   "cell_type": "markdown",
   "id": "7f8c2204",
   "metadata": {},
   "source": [
    "we are going to iniatialize the RandomForst model/classiffier\n",
    "Then we train and fit it to our data"
   ]
  },
  {
   "cell_type": "code",
   "execution_count": 5,
   "id": "63660e29",
   "metadata": {},
   "outputs": [],
   "source": [
    "rf = RandomForestClassifier(n_estimators=100, random_state=42)\n",
    "# Train the Random Forest model\n",
    "rf.fit(x_train, y_train)    \n",
    "# Make predictions on the test set\n",
    "y_pred = rf.predict(x_test)"
   ]
  },
  {
   "cell_type": "markdown",
   "id": "34a479c3",
   "metadata": {},
   "source": [
    "lets look at the performance metrics"
   ]
  },
  {
   "cell_type": "code",
   "execution_count": 6,
   "id": "ef555210",
   "metadata": {},
   "outputs": [
    {
     "data": {
      "image/png": "[encoded data removed]",
      "text/plain": [
       "<Figure size 640x480 with 2 Axes>"
      ]
     },
     "metadata": {},
     "output_type": "display_data"
    }
   ],
   "source": [
    "cm = confusion_matrix(y_test, y_pred)\n",
    "disp = ConfusionMatrixDisplay(confusion_matrix=cm, display_labels=iris.target_names)\n",
    "disp.plot(cmap=plt.cm.Blues)\n",
    "plt.title('Confusion Matrix')\n",
    "plt.show()"
   ]
  },
  {
   "cell_type": "markdown",
   "id": "a1a30008",
   "metadata": {},
   "source": [
    "Lets get the classification report"
   ]
  },
  {
   "cell_type": "code",
   "execution_count": 8,
   "id": "06292f4e",
   "metadata": {},
   "outputs": [
    {
     "name": "stdout",
     "output_type": "stream",
     "text": [
      "Accuracy: 1.00\n",
      "Classification Report:\n",
      "              precision    recall  f1-score   support\n",
      "\n",
      "      setosa       1.00      1.00      1.00        10\n",
      "  versicolor       1.00      1.00      1.00         9\n",
      "   virginica       1.00      1.00      1.00        11\n",
      "\n",
      "    accuracy                           1.00        30\n",
      "   macro avg       1.00      1.00      1.00        30\n",
      "weighted avg       1.00      1.00      1.00        30\n",
      "\n",
      "Confusion Matrix:\n",
      "[[10  0  0]\n",
      " [ 0  9  0]\n",
      " [ 0  0 11]]\n"
     ]
    }
   ],
   "source": [
    "# Evaluate the model's performance\n",
    "accuracy = accuracy_score(y_test, y_pred)\n",
    "print(f\"Accuracy: {accuracy:.2f}\")\n",
    "# print the classification report\n",
    "print(\"Classification Report:\")\n",
    "print(classification_report(y_test, y_pred, \n",
    "                            target_names=iris.target_names))\n",
    "# Print the confusion matrix\n",
    "print(\"Confusion Matrix:\")  \n",
    "print(cm)"
   ]
  }
 ],
 "metadata": {
  "kernelspec": {
   "display_name": ".conda",
   "language": "python",
   "name": "python3"
  },
  "language_info": {
   "codemirror_mode": {
    "name": "ipython",
    "version": 3
   },
   "file_extension": ".py",
   "mimetype": "text/x-python",
   "name": "python",
   "nbconvert_exporter": "python",
   "pygments_lexer": "ipython3",
   "version": "3.11.13"
  }
 },
 "nbformat": 4,
 "nbformat_minor": 5
}
